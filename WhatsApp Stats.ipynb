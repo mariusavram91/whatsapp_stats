{
 "cells": [
  {
   "cell_type": "code",
   "execution_count": null,
   "metadata": {},
   "outputs": [],
   "source": [
    "from whatsapp_parser import Messages, Parser, Data"
   ]
  },
  {
   "cell_type": "code",
   "execution_count": null,
   "metadata": {
    "scrolled": false
   },
   "outputs": [],
   "source": [
    "whatsapp_export_path = './example.txt'\n",
    "#whatsapp_export_path = './real_example.txt'\n",
    "messages = Messages(whatsapp_export_path).read()\n",
    "print(messages)"
   ]
  },
  {
   "cell_type": "code",
   "execution_count": null,
   "metadata": {},
   "outputs": [],
   "source": [
    "parser = Parser(messages)\n",
    "parsed_messages = parser.parse()\n",
    "clean_messages = parser.clean_content(parsed_messages)\n",
    "\n",
    "for message in clean_messages:\n",
    "    print(message)"
   ]
  },
  {
   "cell_type": "code",
   "execution_count": null,
   "metadata": {
    "scrolled": true
   },
   "outputs": [],
   "source": [
    "data = Data(clean_messages)\n",
    "words_by_sender_by_date = data.words_count_by_sender_by_date()\n",
    "print(words_by_sender_by_date)"
   ]
  },
  {
   "cell_type": "code",
   "execution_count": null,
   "metadata": {},
   "outputs": [],
   "source": [
    "import datetime\n",
    "import matplotlib.pyplot as plt\n",
    "\n",
    "x = []\n",
    "\n",
    "for sender in words_by_sender_by_date:\n",
    "    for date in words_by_sender_by_date[sender]:\n",
    "        x.append(datetime.datetime.strptime(date, '%d/%m/%Y'))\n",
    "        x = list(set(x))\n",
    "\n",
    "ys = {}      \n",
    "for date in x:\n",
    "    for sender in words_by_sender_by_date:\n",
    "        try:\n",
    "            value = words_by_sender_by_date[sender][date.strftime('%d/%m/%Y')]\n",
    "        except KeyError:\n",
    "            value = 0\n",
    "        if sender not in ys:\n",
    "            ys[sender] = [value]\n",
    "        else:\n",
    "            ys[sender].append(value)           \n",
    "\n",
    "dates = [min(x) + datetime.timedelta(days=i) for i in range((max(x) - min(x)).days+1)]\n",
    "\n",
    "plt.rcParams['figure.figsize'] = (20,20)\n",
    "\n",
    "for y in ys:\n",
    "    words_count = [ys[y][x.index(date)] if date in x else 0 for date in dates]\n",
    "    plt.plot(dates, words_count, label=y)\n",
    "\n",
    "plt.legend(loc='best')\n",
    "plt.ylabel('Words')\n",
    "#plt.xlim(datetime.datetime.strptime('01/06/2018', '%d/%m/%Y'), datetime.datetime.strptime('01/07/2018', '%d/%m/%Y'))\n",
    "plt.gcf().autofmt_xdate()\n",
    "\n",
    "plt.show()"
   ]
  },
  {
   "cell_type": "code",
   "execution_count": null,
   "metadata": {},
   "outputs": [],
   "source": []
  }
 ],
 "metadata": {
  "kernelspec": {
   "display_name": "Python 3",
   "language": "python",
   "name": "python3"
  },
  "language_info": {
   "codemirror_mode": {
    "name": "ipython",
    "version": 3
   },
   "file_extension": ".py",
   "mimetype": "text/x-python",
   "name": "python",
   "nbconvert_exporter": "python",
   "pygments_lexer": "ipython3",
   "version": "3.5.2"
  }
 },
 "nbformat": 4,
 "nbformat_minor": 2
}
